{
 "cells": [
  {
   "cell_type": "code",
   "execution_count": 1,
   "id": "6671f73f",
   "metadata": {},
   "outputs": [],
   "source": [
    "import numpy as np"
   ]
  },
  {
   "cell_type": "code",
   "execution_count": 2,
   "id": "19d02ef0",
   "metadata": {},
   "outputs": [],
   "source": [
    "import pandas as pd"
   ]
  },
  {
   "cell_type": "code",
   "execution_count": 3,
   "id": "af5d8ed4",
   "metadata": {},
   "outputs": [],
   "source": [
    "%load_ext autoreload\n",
    "%autoreload 2"
   ]
  },
  {
   "cell_type": "code",
   "execution_count": 4,
   "id": "5c96be68",
   "metadata": {},
   "outputs": [],
   "source": [
    "from selenium import webdriver\n",
    "from selenium.webdriver.chrome.service import Service\n",
    "from selenium.webdriver.common.by import By\n",
    "from selenium.webdriver.common.keys import Keys"
   ]
  },
  {
   "cell_type": "code",
   "execution_count": 5,
   "id": "faafd283",
   "metadata": {},
   "outputs": [
    {
     "name": "stdout",
     "output_type": "stream",
     "text": [
      "Requirement already satisfied: chromedriver-py in /Users/joshangelchik/anaconda3/lib/python3.11/site-packages (135.0.7049.95)\r\n"
     ]
    }
   ],
   "source": [
    "!pip install --upgrade chromedriver-py"
   ]
  },
  {
   "cell_type": "code",
   "execution_count": 6,
   "id": "642f70e7",
   "metadata": {},
   "outputs": [],
   "source": [
    "from chromedriver_py import binary_path"
   ]
  },
  {
   "cell_type": "code",
   "execution_count": 7,
   "id": "ef9c1f6c",
   "metadata": {},
   "outputs": [],
   "source": [
    "service = Service(executable_path=binary_path)"
   ]
  },
  {
   "cell_type": "markdown",
   "id": "faf651ea",
   "metadata": {},
   "source": [
    "# Pull Data From YFinance"
   ]
  },
  {
   "cell_type": "markdown",
   "id": "7099beeb",
   "metadata": {},
   "source": [
    "## World Indices"
   ]
  },
  {
   "cell_type": "code",
   "execution_count": 8,
   "id": "65edaa99",
   "metadata": {},
   "outputs": [],
   "source": [
    "lst_world = []"
   ]
  },
  {
   "cell_type": "code",
   "execution_count": 9,
   "id": "590c84fa",
   "metadata": {},
   "outputs": [],
   "source": [
    "driver = webdriver.Chrome(service = service)\n",
    "\n",
    "driver.get('https://finance.yahoo.com/markets/world-indices/')"
   ]
  },
  {
   "cell_type": "code",
   "execution_count": 10,
   "id": "268b5fd0",
   "metadata": {},
   "outputs": [],
   "source": [
    "for count in range(50):\n",
    "    \n",
    "    try:\n",
    "        XPATH = f'//*[@id=\"nimbus-app\"]/section/section/section/article/section[1]/div/div/div/table/tbody/tr[{count}]/td[1]/div/span/a/div/span'\n",
    "        element = driver.find_element(By.XPATH, XPATH)\n",
    "\n",
    "        lst_world.append(element.text)\n",
    "\n",
    "        \n",
    "    except:\n",
    "        pass"
   ]
  },
  {
   "cell_type": "code",
   "execution_count": 11,
   "id": "7cb98334",
   "metadata": {},
   "outputs": [],
   "source": [
    "driver.close()"
   ]
  },
  {
   "cell_type": "code",
   "execution_count": 12,
   "id": "cc9602fe",
   "metadata": {},
   "outputs": [
    {
     "data": {
      "text/plain": [
       "['^GSPC',\n",
       " '^DJI',\n",
       " '^IXIC',\n",
       " '^NYA',\n",
       " '^XAX',\n",
       " '^BUK100P',\n",
       " '^RUT',\n",
       " '^VIX',\n",
       " '^FTSE',\n",
       " '^GDAXI',\n",
       " '^FCHI',\n",
       " '^STOXX50E',\n",
       " '^N100',\n",
       " '^BFX',\n",
       " 'MOEX.ME',\n",
       " '^HSI',\n",
       " '^STI',\n",
       " '^AXJO',\n",
       " '^AORD',\n",
       " '^BSESN',\n",
       " '^JKSE',\n",
       " '^KLSE',\n",
       " '^NZ50',\n",
       " '^KS11',\n",
       " '^TWII',\n",
       " '^GSPTSE',\n",
       " '^BVSP',\n",
       " '^MXX',\n",
       " '^IPSA',\n",
       " '^MERV',\n",
       " '^TA125.TA',\n",
       " '^CASE30',\n",
       " '^JN0U.JO',\n",
       " 'DX-Y.NYB',\n",
       " '^125904-USD-STRD',\n",
       " '^XDB',\n",
       " '^XDE',\n",
       " '000001.SS',\n",
       " '^N225',\n",
       " '^XDN',\n",
       " '^XDA']"
      ]
     },
     "execution_count": 12,
     "metadata": {},
     "output_type": "execute_result"
    }
   ],
   "source": [
    "lst_world"
   ]
  },
  {
   "cell_type": "markdown",
   "id": "8d4bb6c0",
   "metadata": {},
   "source": [
    "## Futures"
   ]
  },
  {
   "cell_type": "code",
   "execution_count": null,
   "id": "a0b18f61",
   "metadata": {},
   "outputs": [],
   "source": []
  },
  {
   "cell_type": "markdown",
   "id": "ce482366",
   "metadata": {},
   "source": [
    "## Currencies"
   ]
  },
  {
   "cell_type": "code",
   "execution_count": null,
   "id": "214ba218",
   "metadata": {},
   "outputs": [],
   "source": []
  }
 ],
 "metadata": {
  "kernelspec": {
   "display_name": "Python 3 (ipykernel)",
   "language": "python",
   "name": "python3"
  },
  "language_info": {
   "codemirror_mode": {
    "name": "ipython",
    "version": 3
   },
   "file_extension": ".py",
   "mimetype": "text/x-python",
   "name": "python",
   "nbconvert_exporter": "python",
   "pygments_lexer": "ipython3",
   "version": "3.11.5"
  }
 },
 "nbformat": 4,
 "nbformat_minor": 5
}
